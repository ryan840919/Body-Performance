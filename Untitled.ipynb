{
 "cells": [
  {
   "cell_type": "code",
   "execution_count": 19,
   "id": "9311ff81",
   "metadata": {},
   "outputs": [],
   "source": [
    "class test:\n",
    "    color = 'blue'\n",
    "    def TT(self):\n",
    "        print(self.color)"
   ]
  },
  {
   "cell_type": "code",
   "execution_count": 20,
   "id": "4399e980",
   "metadata": {},
   "outputs": [],
   "source": [
    "Test = test()"
   ]
  },
  {
   "cell_type": "code",
   "execution_count": 21,
   "id": "3470eb4c",
   "metadata": {},
   "outputs": [
    {
     "name": "stdout",
     "output_type": "stream",
     "text": [
      "blue\n"
     ]
    }
   ],
   "source": [
    "Test.TT()"
   ]
  },
  {
   "cell_type": "code",
   "execution_count": 22,
   "id": "f70b9201",
   "metadata": {},
   "outputs": [
    {
     "data": {
      "text/plain": [
       "True"
      ]
     },
     "execution_count": 22,
     "metadata": {},
     "output_type": "execute_result"
    }
   ],
   "source": [
    "0>-1"
   ]
  },
  {
   "cell_type": "code",
   "execution_count": 23,
   "id": "ff374c24",
   "metadata": {},
   "outputs": [],
   "source": [
    "nums = [2,0,-1]"
   ]
  },
  {
   "cell_type": "code",
   "execution_count": 24,
   "id": "086ccf6a",
   "metadata": {},
   "outputs": [
    {
     "data": {
      "text/plain": [
       "True"
      ]
     },
     "execution_count": 24,
     "metadata": {},
     "output_type": "execute_result"
    }
   ],
   "source": [
    "nums[1]>nums[2]"
   ]
  },
  {
   "cell_type": "code",
   "execution_count": 25,
   "id": "fb1e53d7",
   "metadata": {},
   "outputs": [],
   "source": [
    "a = [1,2,3,4]"
   ]
  },
  {
   "cell_type": "code",
   "execution_count": 26,
   "id": "329f64cb",
   "metadata": {},
   "outputs": [
    {
     "name": "stdout",
     "output_type": "stream",
     "text": [
      "[2, 3, 4]\n"
     ]
    }
   ],
   "source": [
    "print(a[1:])"
   ]
  },
  {
   "cell_type": "code",
   "execution_count": 1,
   "id": "7c164942",
   "metadata": {},
   "outputs": [
    {
     "data": {
      "text/plain": [
       "1"
      ]
     },
     "execution_count": 1,
     "metadata": {},
     "output_type": "execute_result"
    }
   ],
   "source": [
    "8//5"
   ]
  },
  {
   "cell_type": "code",
   "execution_count": 3,
   "id": "5d82b8c7",
   "metadata": {},
   "outputs": [],
   "source": [
    "s = 'eing'"
   ]
  },
  {
   "cell_type": "code",
   "execution_count": 4,
   "id": "07acbec2",
   "metadata": {},
   "outputs": [
    {
     "name": "stdout",
     "output_type": "stream",
     "text": [
      "<class 'str'>\n"
     ]
    }
   ],
   "source": [
    "print(type(s))"
   ]
  },
  {
   "cell_type": "code",
   "execution_count": 5,
   "id": "5178e224",
   "metadata": {},
   "outputs": [
    {
     "data": {
      "text/plain": [
       "'g'"
      ]
     },
     "execution_count": 5,
     "metadata": {},
     "output_type": "execute_result"
    }
   ],
   "source": [
    "s[3]"
   ]
  },
  {
   "cell_type": "code",
   "execution_count": 8,
   "id": "4ef4a1a4",
   "metadata": {},
   "outputs": [],
   "source": [
    "test = ['a']"
   ]
  },
  {
   "cell_type": "code",
   "execution_count": 9,
   "id": "38067c9e",
   "metadata": {},
   "outputs": [
    {
     "data": {
      "text/plain": [
       "'a'"
      ]
     },
     "execution_count": 9,
     "metadata": {},
     "output_type": "execute_result"
    }
   ],
   "source": [
    "test[0][0]"
   ]
  },
  {
   "cell_type": "code",
   "execution_count": 46,
   "id": "296caaef",
   "metadata": {},
   "outputs": [],
   "source": [
    "class ListNode:\n",
    "    def __init__(self,data):\n",
    "        self.data = data\n",
    "        self.next = None"
   ]
  },
  {
   "cell_type": "code",
   "execution_count": 47,
   "id": "a21137db",
   "metadata": {},
   "outputs": [],
   "source": [
    "test = ListNode(1)"
   ]
  },
  {
   "cell_type": "code",
   "execution_count": 48,
   "id": "bca64bc3",
   "metadata": {},
   "outputs": [
    {
     "data": {
      "text/plain": [
       "1"
      ]
     },
     "execution_count": 48,
     "metadata": {},
     "output_type": "execute_result"
    }
   ],
   "source": [
    "test.data"
   ]
  },
  {
   "cell_type": "code",
   "execution_count": 49,
   "id": "0f2763ad",
   "metadata": {},
   "outputs": [],
   "source": [
    "test.next"
   ]
  },
  {
   "cell_type": "code",
   "execution_count": 36,
   "id": "be9e9a3f",
   "metadata": {},
   "outputs": [],
   "source": [
    "class SingleLinkedList:\n",
    "    def __init__(self):\n",
    "        self.head = None\n",
    "        self.tail = None\n",
    "    def add_list_item(self,item):\n",
    "        item = ListNode(item)\n",
    "\n",
    "        if self.head is None:\n",
    "            self.head = item\n",
    "            self.tail = item\n",
    "        else:\n",
    "            self.tail.next = item\n",
    "            self.tail = self.tail.next"
   ]
  },
  {
   "cell_type": "code",
   "execution_count": 38,
   "id": "69d02d17",
   "metadata": {},
   "outputs": [],
   "source": [
    "test1 = SingleLinkedList()"
   ]
  },
  {
   "cell_type": "code",
   "execution_count": 33,
   "id": "03e352f4",
   "metadata": {},
   "outputs": [
    {
     "name": "stdout",
     "output_type": "stream",
     "text": [
      "None\n"
     ]
    }
   ],
   "source": [
    "print(test1.tail)"
   ]
  },
  {
   "cell_type": "code",
   "execution_count": 39,
   "id": "e72b9b6e",
   "metadata": {},
   "outputs": [],
   "source": [
    "test1.add_list_item(test)"
   ]
  },
  {
   "cell_type": "code",
   "execution_count": 40,
   "id": "ee599b6b",
   "metadata": {},
   "outputs": [
    {
     "name": "stdout",
     "output_type": "stream",
     "text": [
      "<__main__.SingleLinkedList object at 0x000002D9DC63C580>\n"
     ]
    }
   ],
   "source": [
    "print(test1)"
   ]
  },
  {
   "cell_type": "code",
   "execution_count": 45,
   "id": "53cf7862",
   "metadata": {},
   "outputs": [
    {
     "data": {
      "text/plain": [
       "<__main__.SingleLinkedList at 0x2d9dc63c580>"
      ]
     },
     "execution_count": 45,
     "metadata": {},
     "output_type": "execute_result"
    }
   ],
   "source": []
  },
  {
   "cell_type": "code",
   "execution_count": null,
   "id": "b7dc4824",
   "metadata": {},
   "outputs": [],
   "source": []
  }
 ],
 "metadata": {
  "kernelspec": {
   "display_name": "Python 3 (ipykernel)",
   "language": "python",
   "name": "python3"
  },
  "language_info": {
   "codemirror_mode": {
    "name": "ipython",
    "version": 3
   },
   "file_extension": ".py",
   "mimetype": "text/x-python",
   "name": "python",
   "nbconvert_exporter": "python",
   "pygments_lexer": "ipython3",
   "version": "3.9.7"
  }
 },
 "nbformat": 4,
 "nbformat_minor": 5
}
